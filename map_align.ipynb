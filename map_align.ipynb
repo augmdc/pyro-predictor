{
 "cells": [
  {
   "cell_type": "code",
   "execution_count": 1,
   "metadata": {},
   "outputs": [],
   "source": [
    "import pandas as pd\n",
    "import matplotlib.pyplot as plt\n",
    "\n",
    "# Load the CSV file\n",
    "file_path = \"/Users/shuai/Desktop/Mining/Data2of3/C1_352_131/C1_352_131.csv\"  # Replace with the path to your CSV file\n",
    "df = pd.read_csv(file_path)\n",
    "\n",
    "# Extract X and Y coordinates\n",
    "x = df[\"Drillhole.X\"]\n",
    "y = df[\"Drillhole.Y\"]\n",
    "\n",
    "# Set up the figure with a transparent background\n",
    "plt.figure(figsize=(10, 8), facecolor='none')\n",
    "plt.scatter(x, y, c='green', marker='o')  # Green dots only\n",
    "plt.gca().set_facecolor('none')  # Transparent background for the plot\n",
    "plt.axis(\"off\")  # No axes, grid, or labels for a clean map\n",
    "\n",
    "# Save the drill hole map with transparency\n",
    "plt.savefig(\"drill_hole_map.png\", dpi=300, transparent=True, bbox_inches='tight')\n",
    "plt.close()"
   ]
  },
  {
   "cell_type": "code",
   "execution_count": 16,
   "metadata": {},
   "outputs": [
    {
     "name": "stdout",
     "output_type": "stream",
     "text": [
      "Select 4 points in the Design Map window...\n",
      "Point selected: (2255, 972)\n",
      "Point selected: (799, 1800)\n",
      "Point selected: (134, 666)\n",
      "Point selected: (961, 120)\n",
      "Select 4 points in the Drone Footage window...\n",
      "Point selected: (396, 497)\n",
      "Point selected: (1186, 457)\n",
      "Point selected: (1336, 609)\n",
      "Point selected: (648, 641)\n",
      "Homography matrix saved to 'homography_matrix.npy'\n"
     ]
    }
   ],
   "source": [
    "import cv2\n",
    "import numpy as np\n",
    "\n",
    "\n",
    "# Load images\n",
    "design_map = cv2.imread(\"drill_hole_map.png\")\n",
    "drone_image = cv2.imread(\"/Users/shuai/Desktop/Mining/Dataset/Labling Job/val/dataset2_frame_0019.jpg\")\n",
    "\n",
    "# Function to manually select points\n",
    "def select_points(image, window_name):\n",
    "    points = []\n",
    "    def mouse_click(event, x, y, flags, param):\n",
    "        if event == cv2.EVENT_LBUTTONDOWN:\n",
    "            points.append((x, y))\n",
    "            print(f\"Point selected: ({x}, {y})\")\n",
    "    \n",
    "    cv2.imshow(window_name, image)\n",
    "    cv2.setMouseCallback(window_name, mouse_click)\n",
    "    print(f\"Select 4 points in the {window_name} window...\")\n",
    "    cv2.waitKey(0)\n",
    "    cv2.destroyAllWindows()\n",
    "    return points\n",
    "\n",
    "# Select points from the design map and drone image\n",
    "design_points = select_points(design_map, \"Design Map\")\n",
    "drone_points = select_points(drone_image, \"Drone Footage\")\n",
    "\n",
    "# Convert points to numpy arrays\n",
    "design_points = np.array(design_points, dtype=np.float32)\n",
    "drone_points = np.array(drone_points, dtype=np.float32)\n",
    "\n",
    "# Calculate homography matrix\n",
    "H, status = cv2.findHomography(design_points, drone_points)\n",
    "\n",
    "np.save(\"homography_matrix.npy\", H)\n",
    "print(\"Homography matrix saved to 'homography_matrix.npy'\")\n"
   ]
  },
  {
   "cell_type": "code",
   "execution_count": null,
   "metadata": {},
   "outputs": [
    {
     "data": {
      "text/plain": [
       "True"
      ]
     },
     "execution_count": 17,
     "metadata": {},
     "output_type": "execute_result"
    },
    {
     "ename": "",
     "evalue": "",
     "output_type": "error",
     "traceback": [
      "\u001b[1;31mThe Kernel crashed while executing code in the current cell or a previous cell. \n",
      "\u001b[1;31mPlease review the code in the cell(s) to identify a possible cause of the failure. \n",
      "\u001b[1;31mClick <a href='https://aka.ms/vscodeJupyterKernelCrash'>here</a> for more info. \n",
      "\u001b[1;31mView Jupyter <a href='command:jupyter.viewOutput'>log</a> for further details."
     ]
    }
   ],
   "source": [
    "import cv2\n",
    "import numpy as np\n",
    "\n",
    "# Load the design map (with transparency) and drone image (JPEG format)\n",
    "design_map = cv2.imread(\"drill_hole_map.png\", cv2.IMREAD_UNCHANGED)  # Load with transparency (RGBA)\n",
    "drone_image = cv2.imread(\"/Users/shuai/Desktop/Mining/Dataset/Labling Job/val/dataset2_frame_0027.jpg\")  # JPEG format\n",
    "\n",
    "# Convert the drone image to RGBA\n",
    "drone_image = cv2.cvtColor(drone_image, cv2.COLOR_BGR2BGRA)\n",
    "\n",
    "# Load the homography matrix\n",
    "H = np.load(\"homography_matrix.npy\")\n",
    "\n",
    "# Warp the design map to align with the drone footage\n",
    "aligned_map = cv2.warpPerspective(design_map, H, (drone_image.shape[1], drone_image.shape[0]), flags=cv2.INTER_LINEAR, borderMode=cv2.BORDER_CONSTANT, borderValue=(0, 0, 0, 0))\n",
    "\n",
    "# Blend the aligned design map onto the drone image\n",
    "# Normalize alpha channel of the aligned map\n",
    "alpha_map = aligned_map[:, :, 3] / 255.0  # Normalized alpha values (0.0 to 1.0)\n",
    "\n",
    "# Blend each channel (R, G, B)\n",
    "for c in range(3):  # Iterate over the R, G, B channels\n",
    "    drone_image[:, :, c] = (\n",
    "        alpha_map * aligned_map[:, :, c] + (1 - alpha_map) * drone_image[:, :, c]\n",
    "    ).astype(np.uint8)\n",
    "\n",
    "# Combine the alpha channels: keep the maximum alpha for each pixel\n",
    "drone_image[:, :, 3] = np.maximum(drone_image[:, :, 3], aligned_map[:, :, 3])\n",
    "\n",
    "# Save and display the final result\n",
    "cv2.imwrite(\"overlay_result.png\", drone_image)"
   ]
  },
  {
   "cell_type": "code",
   "execution_count": null,
   "metadata": {},
   "outputs": [],
   "source": []
  }
 ],
 "metadata": {
  "kernelspec": {
   "display_name": "blast",
   "language": "python",
   "name": "python3"
  },
  "language_info": {
   "codemirror_mode": {
    "name": "ipython",
    "version": 3
   },
   "file_extension": ".py",
   "mimetype": "text/x-python",
   "name": "python",
   "nbconvert_exporter": "python",
   "pygments_lexer": "ipython3",
   "version": "3.12.8"
  }
 },
 "nbformat": 4,
 "nbformat_minor": 2
}
