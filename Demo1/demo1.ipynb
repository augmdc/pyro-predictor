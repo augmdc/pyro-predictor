{
 "cells": [
  {
   "cell_type": "code",
   "execution_count": 4,
   "metadata": {},
   "outputs": [
    {
     "name": "stdout",
     "output_type": "stream",
     "text": [
      "zsh:1: command not found: nvcc\n",
      "torch:  2.5 ; cuda:  2.5.1\n",
      "detectron2: 0.6\n"
     ]
    }
   ],
   "source": [
    "import sys, os, distutils.core\n",
    "sys.path.insert(0, os.path.abspath('/Users/shuai/Desktop/Mining/dev/detectron2'))\n",
    "\n",
    "import torch, detectron2\n",
    "!nvcc --version\n",
    "TORCH_VERSION = \".\".join(torch.__version__.split(\".\")[:2])\n",
    "CUDA_VERSION = torch.__version__.split(\"+\")[-1]\n",
    "print(\"torch: \", TORCH_VERSION, \"; cuda: \", CUDA_VERSION)\n",
    "print(\"detectron2:\", detectron2.__version__)"
   ]
  },
  {
   "cell_type": "code",
   "execution_count": 5,
   "metadata": {},
   "outputs": [],
   "source": [
    "import matplotlib.pyplot as plt\n",
    "import cv2\n",
    "import numpy as np\n",
    "from detectron2.utils.visualizer import Visualizer, ColorMode\n",
    "from detectron2.data import MetadataCatalog"
   ]
  },
  {
   "cell_type": "code",
   "execution_count": 104,
   "metadata": {},
   "outputs": [],
   "source": [
    "def process_single_image(image_path, predictor, metadata):\n",
    "    # Read the input image\n",
    "    im = cv2.imread(image_path)\n",
    "    if im is None:\n",
    "        raise ValueError(f\"Failed to load image at {image_path}\")\n",
    "    \n",
    "    # Run prediction\n",
    "    outputs = predictor(im)\n",
    "    \n",
    "    # Create visualizer\n",
    "    v = Visualizer(im[:, :, ::-1],\n",
    "                   metadata=metadata, \n",
    "                   scale=1, \n",
    "                   instance_mode=ColorMode.IMAGE_BW\n",
    "    )\n",
    "    \n",
    "    # Draw predictions\n",
    "    out = v.draw_instance_predictions(outputs[\"instances\"].to(\"cpu\"))\n",
    "    output_image = np.array(out.get_image()[:, :, ::-1], dtype=np.uint8)\n",
    "\n",
    "    # Get predictions\n",
    "    pred_boxes = outputs[\"instances\"].pred_boxes\n",
    "    pred_classes = outputs[\"instances\"].pred_classes\n",
    "\n",
    "    print(\"pred_boxes:\", pred_boxes)\n",
    "\n",
    "    blasting_points = []\n",
    "\n",
    "    # Draw ellipses for each detection\n",
    "    for box in pred_boxes.to(\"cpu\"):\n",
    "        x_min, y_min, x_max, y_max = box.numpy()\n",
    "\n",
    "        # Bottom-center of the bounding box\n",
    "        center_x = (x_min + x_max) / 2\n",
    "        center_y = y_max\n",
    "\n",
    "        # Add blasting point\n",
    "        blasting_points.append((center_x, center_y))\n",
    "        print(\"blasting_points:\", blasting_points)\n",
    "\n",
    "        # Calculate dimensions\n",
    "        radius = int((x_max - x_min) / 2)\n",
    "        major_axis_length = x_max - x_min\n",
    "\n",
    "        # Define vertical point\n",
    "        vertical_point = np.array([center_x, center_y - radius, 1])\n",
    "\n",
    "        # Apply homography\n",
    "        warped_center = H @ np.array([center_x, center_y, 1])\n",
    "        warped_vertical = H @ vertical_point\n",
    "\n",
    "        # Normalize coordinates\n",
    "        warped_center /= warped_center[2]\n",
    "        warped_vertical /= warped_vertical[2]\n",
    "\n",
    "        # Calculate minor axis\n",
    "        minor_axis_length = 2 * np.linalg.norm(warped_vertical[:2] - warped_center[:2])\n",
    "\n",
    "        # TODO: BUG\n",
    "        # Draw ellipse\n",
    "        cv2.ellipse(\n",
    "            output_image,\n",
    "            (int(center_x), int(center_y)),\n",
    "            (int(major_axis_length / 2), int(minor_axis_length / 2)),\n",
    "            0, 0, 360,\n",
    "            (0, 0, 255),\n",
    "            thickness=2\n",
    "        )\n",
    "\n",
    "    # Load and align design map\n",
    "    design_map = cv2.imread(\"drill_hole_map_cv2.png\", cv2.IMREAD_UNCHANGED)\n",
    "    if design_map is None:\n",
    "        raise ValueError(\"Failed to load drill_hole_map.png\")\n",
    "\n",
    "    output_image = cv2.cvtColor(output_image, cv2.COLOR_BGR2BGRA)\n",
    "\n",
    "    # Warp design map\n",
    "    aligned_map = cv2.warpPerspective(\n",
    "        design_map, \n",
    "        H, \n",
    "        (output_image.shape[1], output_image.shape[0]), \n",
    "        flags=cv2.INTER_LINEAR, \n",
    "        borderMode=cv2.BORDER_CONSTANT, \n",
    "        borderValue=(0, 0, 0, 0)\n",
    "    )\n",
    "\n",
    "    # Blend images\n",
    "    alpha_map = aligned_map[:, :, 3] / 255.0\n",
    "    for c in range(3):\n",
    "        output_image[:, :, c] = (\n",
    "            alpha_map * aligned_map[:, :, c] + \n",
    "            (1 - alpha_map) * output_image[:, :, c]\n",
    "        ).astype(np.uint8)\n",
    "\n",
    "    # Combine alpha channels\n",
    "    output_image[:, :, 3] = np.maximum(output_image[:, :, 3], aligned_map[:, :, 3])\n",
    "\n",
    "    # Save output\n",
    "    output_filename = \"output_\" + os.path.basename(image_path)\n",
    "    if not cv2.imwrite(output_filename, output_image):\n",
    "        raise ValueError(f\"Failed to save output image to {output_filename}\")\n",
    "    \n",
    "    return blasting_points\n"
   ]
  },
  {
   "cell_type": "code",
   "execution_count": 13,
   "metadata": {},
   "outputs": [],
   "source": [
    "import os\n",
    "from detectron2.config import get_cfg\n",
    "from detectron2.engine import DefaultPredictor\n",
    "from detectron2 import model_zoo\n",
    "\n",
    "def setup_inference():\n",
    "    # Setup configuration\n",
    "    cfg = get_cfg()\n",
    "    cfg.merge_from_file(model_zoo.get_config_file(\"COCO-InstanceSegmentation/mask_rcnn_R_50_FPN_3x.yaml\"))\n",
    "    \n",
    "    # Set inference parameters\n",
    "    cfg.MODEL.ROI_HEADS.NUM_CLASSES = 1  # your number of classes\n",
    "    cfg.MODEL.DEVICE = \"cpu\"\n",
    "    cfg.INPUT.MASK_FORMAT = \"bitmask\"\n",
    "    \n",
    "    # Load your trained weights\n",
    "    cfg.MODEL.WEIGHTS = os.path.join(cfg.OUTPUT_DIR, \"/Users/shuai/Desktop/Mining/dev/output/model_final.pth\")\n",
    "    \n",
    "    # Set confidence threshold for inference\n",
    "    cfg.MODEL.ROI_HEADS.SCORE_THRESH_TEST = 0.7\n",
    "    \n",
    "    # Create and return predictor\n",
    "    predictor = DefaultPredictor(cfg)\n",
    "    return predictor\n"
   ]
  },
  {
   "cell_type": "code",
   "execution_count": null,
   "metadata": {},
   "outputs": [],
   "source": []
  },
  {
   "cell_type": "code",
   "execution_count": 105,
   "metadata": {},
   "outputs": [
    {
     "name": "stderr",
     "output_type": "stream",
     "text": [
      "/Users/shuai/miniconda3/envs/blast/lib/python3.12/site-packages/fvcore/common/checkpoint.py:252: FutureWarning: You are using `torch.load` with `weights_only=False` (the current default value), which uses the default pickle module implicitly. It is possible to construct malicious pickle data which will execute arbitrary code during unpickling (See https://github.com/pytorch/pytorch/blob/main/SECURITY.md#untrusted-models for more details). In a future release, the default value for `weights_only` will be flipped to `True`. This limits the functions that could be executed during unpickling. Arbitrary objects will no longer be allowed to be loaded via this mode unless they are explicitly allowlisted by the user via `torch.serialization.add_safe_globals`. We recommend you start setting `weights_only=True` for any use case where you don't have full control of the loaded file. Please open an issue on GitHub for any issues related to this experimental feature.\n",
      "  return torch.load(f, map_location=torch.device(\"cpu\"))\n"
     ]
    },
    {
     "name": "stdout",
     "output_type": "stream",
     "text": [
      "pred_boxes: Boxes(tensor([[965.2250, 457.2144, 981.9709, 493.7719],\n",
      "        [912.2878, 432.8939, 951.4757, 496.3074],\n",
      "        [869.9539, 460.0344, 906.8766, 514.9352]]))\n",
      "blasting_points: [(np.float32(973.59796), np.float32(493.77185))]\n",
      "blasting_points: [(np.float32(973.59796), np.float32(493.77185)), (np.float32(931.8817), np.float32(496.3074))]\n",
      "blasting_points: [(np.float32(973.59796), np.float32(493.77185)), (np.float32(931.8817), np.float32(496.3074)), (np.float32(888.4152), np.float32(514.93524))]\n"
     ]
    }
   ],
   "source": [
    "all_blasting_points = []\n",
    "\n",
    "image_path = \"demo1_frames/demo1_frame_0004.jpg\"\n",
    "\n",
    "# Load the homography matrix from npy\n",
    "H = np.load(\"homography_matrix.npy\")\n",
    "\n",
    "# Get the metadata (modify this according to your setup)\n",
    "metadata = MetadataCatalog.get(\"my_dataset_val2\")\n",
    "\n",
    "predictor = setup_inference()\n",
    "\n",
    "\n",
    "blasting_points = process_single_image(image_path, predictor, metadata)\n",
    "\n",
    "all_blasting_points.extend(blasting_points)"
   ]
  },
  {
   "cell_type": "code",
   "execution_count": null,
   "metadata": {},
   "outputs": [],
   "source": []
  },
  {
   "cell_type": "code",
   "execution_count": 100,
   "metadata": {},
   "outputs": [],
   "source": [
    "import numpy as np\n",
    "import pandas as pd\n",
    "from scipy.spatial.distance import cdist\n",
    "\n",
    "\n",
    "def find_related_drill_holes(transformed_df, detected_points):\n",
    "    # Extract drill hole coordinates\n",
    "    drill_coords = transformed_df[[\"X_Final\", \"Y_Final\"]].values  # Ensure correct column names\n",
    "    detected_points_np = np.array(detected_points)\n",
    "\n",
    "    # Calculate distances between all detections and transformed drill holes\n",
    "    distances = cdist(np.array(detected_points_np), drill_coords)\n",
    "    \n",
    "    # Find the nearest drill hole for each detected point\n",
    "    results = []\n",
    "    for idx, point in enumerate(detected_points):\n",
    "        nearest_idx = np.argmin(distances[idx])\n",
    "        \n",
    "        # Add to results\n",
    "        results.append({\n",
    "            \"Detected Point\": point,\n",
    "            \"Drill_X\": transformed_df.iloc[nearest_idx][\"X_Final\"],\n",
    "            \"Drill_Y\": transformed_df.iloc[nearest_idx][\"Y_Final\"],\n",
    "            \"Pattern.Name\": transformed_df.iloc[nearest_idx][\"Pattern.Name\"],\n",
    "            \"Hole.id\": transformed_df.iloc[nearest_idx][\"Hole.id\"],\n",
    "        })\n",
    "\n",
    "    return results\n"
   ]
  },
  {
   "cell_type": "code",
   "execution_count": 106,
   "metadata": {},
   "outputs": [
    {
     "name": "stdout",
     "output_type": "stream",
     "text": [
      "Nearest drill hole: [{'Detected Point': (np.float32(973.59796), np.float32(493.77185)), 'Drill_X': np.int64(977), 'Drill_Y': np.int64(495), 'Pattern.Name': 'C1_352_121', 'Hole.id': np.int64(65)}, {'Detected Point': (np.float32(931.8817), np.float32(496.3074)), 'Drill_X': np.int64(933), 'Drill_Y': np.int64(506), 'Pattern.Name': 'C1_352_121', 'Hole.id': np.int64(105)}, {'Detected Point': (np.float32(888.4152), np.float32(514.93524)), 'Drill_X': np.int64(890), 'Drill_Y': np.int64(517), 'Pattern.Name': 'C1_352_121', 'Hole.id': np.int64(145)}]\n"
     ]
    }
   ],
   "source": [
    "# Load the CSV file\n",
    "file_path = \"transformed_drill_hole_coordinates.csv\"  # Replace with your actual CSV file path\n",
    "df = pd.read_csv(file_path)\n",
    "\n",
    "# Find related drill holes\n",
    "match_info = find_related_drill_holes(df, all_blasting_points)\n",
    "\n",
    "# Print results\n",
    "print(f\"Nearest drill hole: {match_info}\")"
   ]
  },
  {
   "cell_type": "code",
   "execution_count": null,
   "metadata": {},
   "outputs": [],
   "source": []
  },
  {
   "cell_type": "code",
   "execution_count": 107,
   "metadata": {},
   "outputs": [
    {
     "name": "stdout",
     "output_type": "stream",
     "text": [
      "Drone image with drill holes and related points saved to drone_image_with_drill_holes0004.png\n"
     ]
    }
   ],
   "source": [
    "import cv2\n",
    "import pandas as pd\n",
    "import numpy as np\n",
    "\n",
    "# Step 1: Load the transformed coordinates\n",
    "transformed_coords_csv_path = \"transformed_drill_hole_coordinates.csv\"  # Replace with your CSV file path\n",
    "transformed_coords_df = pd.read_csv(transformed_coords_csv_path)\n",
    "\n",
    "# Step 2: Load the drone footage image\n",
    "drone_image_path = \"demo1_frames/demo1_frame_0000.jpg\"  # Replace with your drone footage image path\n",
    "drone_image = cv2.imread(drone_image_path)\n",
    "\n",
    "# Step 3: Draw each transformed point (green) onto the drone image\n",
    "for _, row in transformed_coords_df.iterrows():\n",
    "    x, y = int(row[\"X_Final\"]), int(row[\"Y_Final\"])\n",
    "    # Draw a green circle for each drill hole\n",
    "    cv2.circle(drone_image, (x, y), radius=5, color=(0, 255, 0), thickness=-1)  # Green filled circle\n",
    "\n",
    "# Step 4: Draw related points (red) from `match_info`\n",
    "# Assuming match_info contains related points in a similar format\n",
    "# Replace this line with your actual function call or data structure\n",
    "match_info = find_related_drill_holes(transformed_coords_df, all_blasting_points)  \n",
    "\n",
    "for match in match_info:\n",
    "    x, y = int(match[\"Drill_X\"]), int(match[\"Drill_Y\"])\n",
    "    # Draw a red circle for the related point\n",
    "    cv2.circle(drone_image, (x, y), radius=5, color=(0, 0, 255), thickness=-1)  # Red filled circle\n",
    "\n",
    "# Step 5: Save and display the result\n",
    "output_image_path = \"drone_image_with_drill_holes0004.png\"  # Output image path\n",
    "cv2.imwrite(output_image_path, drone_image)\n",
    "\n",
    "print(f\"Drone image with drill holes and related points saved to {output_image_path}\")"
   ]
  },
  {
   "cell_type": "code",
   "execution_count": null,
   "metadata": {},
   "outputs": [],
   "source": []
  }
 ],
 "metadata": {
  "kernelspec": {
   "display_name": "blast",
   "language": "python",
   "name": "python3"
  },
  "language_info": {
   "codemirror_mode": {
    "name": "ipython",
    "version": 3
   },
   "file_extension": ".py",
   "mimetype": "text/x-python",
   "name": "python",
   "nbconvert_exporter": "python",
   "pygments_lexer": "ipython3",
   "version": "3.12.8"
  }
 },
 "nbformat": 4,
 "nbformat_minor": 2
}
